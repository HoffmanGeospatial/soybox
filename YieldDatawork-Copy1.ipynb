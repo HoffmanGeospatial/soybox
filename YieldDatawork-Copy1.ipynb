{
 "cells": [
  {
   "cell_type": "code",
   "execution_count": null,
   "id": "3af5f51e",
   "metadata": {
    "kernel": "SoS",
    "scrolled": false
   },
   "outputs": [],
   "source": [
    "import pandas as pd\n",
    "wheatdata = open(\"wheat100.csv\")\n",
    "wheatdata\n",
    "df = pd.read_csv(wheatdata)\n",
    "df"
   ]
  },
  {
   "cell_type": "code",
   "execution_count": null,
   "id": "ecdd301f",
   "metadata": {
    "kernel": "ir"
   },
   "outputs": [],
   "source": [
    "wheatdata <- read.csv(\"wheat100.csv\")\n",
    "summary(wheatdata)\n",
    "(\"----------Yield---------------------------------\")\n",
    "#names(wheatdata)\n",
    "maxyield <- max(wheatdata$Yld.Mass.Dry..lb.ac.)\n",
    "minyield <- min(wheatdata$Yld.Mass.Dry..lb.ac.)\n",
    "paste(\"The maximum yield value is: \", maxyield, \"lb/ac\")\n",
    "paste(\"The minimum yield value is: \", minyield, \"lb/ac\")\n",
    "(\"----------Speed---------------------------------\")\n",
    "maxspeed <- max(wheatdata$Speed.mph.)\n",
    "minspeed <- min(wheatdata$Speed.mph.)\n",
    "paste(\"The maximum speed value is: \", maxspeed, \"mph\")\n",
    "paste(\"The minimum speed value is: \", minspeed, \"mph\")"
   ]
  },
  {
   "cell_type": "code",
   "execution_count": null,
   "id": "3c305f29",
   "metadata": {
    "kernel": "python3"
   },
   "outputs": [],
   "source": [
    "# Import Python standard library and IPython packages we need.\n",
    "import os\n",
    "import subprocess\n",
    "import sys\n",
    "from IPython.display import Image\n",
    "\n",
    "# Ask GRASS GIS where its Python packages are.\n",
    "path = sys.path.append(\n",
    "    subprocess.check_output([\"grass82\", \"--config\", \"python_path\"], text=True, shell=True).strip()\n",
    ")\n",
    "\n",
    "print(path)\n",
    "# Import the GRASS GIS packages needed.\n",
    "#import grass.script as gs\n",
    "#import grass.jupyter as gj\n",
    "\n",
    "# Start GRASS Session\n",
    "#session = gj.init(\"/home/jovyan/data/\", \"testLocation\", \"PERMANENT\")\n",
    "#print(session)\n",
    "\n",
    "# Set working location of data\n",
    "#os.chdir('/home/jovyan/data/testLocation')\n",
    "#cwd = os.getcwd()"
   ]
  },
  {
   "cell_type": "code",
   "execution_count": null,
   "id": "b825d8d9",
   "metadata": {
    "kernel": "SoS"
   },
   "outputs": [],
   "source": []
  }
 ],
 "metadata": {
  "kernelspec": {
   "display_name": "SoS",
   "language": "sos",
   "name": "sos"
  },
  "language_info": {
   "codemirror_mode": "sos",
   "file_extension": ".sos",
   "mimetype": "text/x-sos",
   "name": "sos",
   "nbconvert_exporter": "sos_notebook.converter.SoS_Exporter",
   "pygments_lexer": "sos"
  },
  "sos": {
   "kernels": [
    [
     "SoS",
     "sos",
     "",
     "",
     "sos"
    ],
    [
     "ir",
     "ir",
     "R",
     "",
     "r"
    ],
    [
     "python3",
     "python3",
     "python",
     "",
     {
      "name": "ipython",
      "version": 3
     }
    ]
   ],
   "panel": {
    "displayed": true,
    "height": 0
   },
   "version": "0.20.1"
  }
 },
 "nbformat": 4,
 "nbformat_minor": 5
}

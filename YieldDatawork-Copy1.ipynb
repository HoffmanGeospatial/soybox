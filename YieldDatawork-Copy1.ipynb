{
 "cells": [
  {
   "cell_type": "code",
   "execution_count": 2,
   "id": "3af5f51e",
   "metadata": {
    "kernel": "SoS"
   },
   "outputs": [
    {
     "data": {
      "text/html": [
       "<div>\n",
       "<style scoped>\n",
       "    .dataframe tbody tr th:only-of-type {\n",
       "        vertical-align: middle;\n",
       "    }\n",
       "\n",
       "    .dataframe tbody tr th {\n",
       "        vertical-align: top;\n",
       "    }\n",
       "\n",
       "    .dataframe thead th {\n",
       "        text-align: right;\n",
       "    }\n",
       "</style>\n",
       "<table border=\"1\" class=\"dataframe\">\n",
       "  <thead>\n",
       "    <tr style=\"text-align: right;\">\n",
       "      <th></th>\n",
       "      <th>Obj. Id</th>\n",
       "      <th>Longitude</th>\n",
       "      <th>Latitude</th>\n",
       "      <th>Yld Mass(Dry)(lb/ac)</th>\n",
       "      <th>Speed(mph)</th>\n",
       "    </tr>\n",
       "  </thead>\n",
       "  <tbody>\n",
       "    <tr>\n",
       "      <th>0</th>\n",
       "      <td>1</td>\n",
       "      <td>-81.495889</td>\n",
       "      <td>35.944594</td>\n",
       "      <td>1680.3</td>\n",
       "      <td>2.66</td>\n",
       "    </tr>\n",
       "    <tr>\n",
       "      <th>1</th>\n",
       "      <td>2</td>\n",
       "      <td>-81.495882</td>\n",
       "      <td>35.944610</td>\n",
       "      <td>2451.2</td>\n",
       "      <td>2.91</td>\n",
       "    </tr>\n",
       "    <tr>\n",
       "      <th>2</th>\n",
       "      <td>3</td>\n",
       "      <td>-81.495865</td>\n",
       "      <td>35.944630</td>\n",
       "      <td>3238.9</td>\n",
       "      <td>3.04</td>\n",
       "    </tr>\n",
       "    <tr>\n",
       "      <th>3</th>\n",
       "      <td>4</td>\n",
       "      <td>-81.495865</td>\n",
       "      <td>35.944630</td>\n",
       "      <td>3880.4</td>\n",
       "      <td>3.09</td>\n",
       "    </tr>\n",
       "    <tr>\n",
       "      <th>4</th>\n",
       "      <td>5</td>\n",
       "      <td>-81.495854</td>\n",
       "      <td>35.944640</td>\n",
       "      <td>3496.3</td>\n",
       "      <td>3.15</td>\n",
       "    </tr>\n",
       "    <tr>\n",
       "      <th>...</th>\n",
       "      <td>...</td>\n",
       "      <td>...</td>\n",
       "      <td>...</td>\n",
       "      <td>...</td>\n",
       "      <td>...</td>\n",
       "    </tr>\n",
       "    <tr>\n",
       "      <th>94</th>\n",
       "      <td>95</td>\n",
       "      <td>-81.495073</td>\n",
       "      <td>35.944171</td>\n",
       "      <td>3487.3</td>\n",
       "      <td>3.13</td>\n",
       "    </tr>\n",
       "    <tr>\n",
       "      <th>95</th>\n",
       "      <td>96</td>\n",
       "      <td>-81.495060</td>\n",
       "      <td>35.944163</td>\n",
       "      <td>3233.4</td>\n",
       "      <td>3.27</td>\n",
       "    </tr>\n",
       "    <tr>\n",
       "      <th>96</th>\n",
       "      <td>97</td>\n",
       "      <td>-81.495040</td>\n",
       "      <td>35.944148</td>\n",
       "      <td>3075.9</td>\n",
       "      <td>3.38</td>\n",
       "    </tr>\n",
       "    <tr>\n",
       "      <th>97</th>\n",
       "      <td>98</td>\n",
       "      <td>-81.495040</td>\n",
       "      <td>35.944148</td>\n",
       "      <td>2904.3</td>\n",
       "      <td>3.60</td>\n",
       "    </tr>\n",
       "    <tr>\n",
       "      <th>98</th>\n",
       "      <td>99</td>\n",
       "      <td>-81.495021</td>\n",
       "      <td>35.944139</td>\n",
       "      <td>2986.1</td>\n",
       "      <td>3.69</td>\n",
       "    </tr>\n",
       "  </tbody>\n",
       "</table>\n",
       "<p>99 rows × 5 columns</p>\n",
       "</div>"
      ],
      "text/plain": [
       "    Obj. Id  Longitude   Latitude  Yld Mass(Dry)(lb/ac)  Speed(mph)\n",
       "0         1 -81.495889  35.944594                1680.3        2.66\n",
       "1         2 -81.495882  35.944610                2451.2        2.91\n",
       "2         3 -81.495865  35.944630                3238.9        3.04\n",
       "3         4 -81.495865  35.944630                3880.4        3.09\n",
       "4         5 -81.495854  35.944640                3496.3        3.15\n",
       "..      ...        ...        ...                   ...         ...\n",
       "94       95 -81.495073  35.944171                3487.3        3.13\n",
       "95       96 -81.495060  35.944163                3233.4        3.27\n",
       "96       97 -81.495040  35.944148                3075.9        3.38\n",
       "97       98 -81.495040  35.944148                2904.3        3.60\n",
       "98       99 -81.495021  35.944139                2986.1        3.69\n",
       "\n",
       "[99 rows x 5 columns]"
      ]
     },
     "execution_count": 2,
     "metadata": {},
     "output_type": "execute_result"
    }
   ],
   "source": [
    "import pandas as pd\n",
    "wheatdata = open(\"wheat100.csv\")\n",
    "wheatdata\n",
    "df = pd.read_csv(wheatdata)\n",
    "df"
   ]
  },
  {
   "cell_type": "code",
   "execution_count": 2,
   "id": "ecdd301f",
   "metadata": {
    "kernel": "ir"
   },
   "outputs": [
    {
     "data": {
      "text/plain": [
       "    Obj..Id       Longitude        Latitude     Yld.Mass.Dry..lb.ac.\n",
       " Min.   : 1.0   Min.   :-81.5   Min.   :35.94   Min.   : 295.1      \n",
       " 1st Qu.:25.5   1st Qu.:-81.5   1st Qu.:35.94   1st Qu.:1977.5      \n",
       " Median :50.0   Median :-81.5   Median :35.94   Median :3279.9      \n",
       " Mean   :50.0   Mean   :-81.5   Mean   :35.94   Mean   :3106.1      \n",
       " 3rd Qu.:74.5   3rd Qu.:-81.5   3rd Qu.:35.94   3rd Qu.:4473.4      \n",
       " Max.   :99.0   Max.   :-81.5   Max.   :35.94   Max.   :5430.6      \n",
       "   Speed.mph.   \n",
       " Min.   :0.540  \n",
       " 1st Qu.:2.740  \n",
       " Median :3.020  \n",
       " Mean   :2.857  \n",
       " 3rd Qu.:3.190  \n",
       " Max.   :3.690  "
      ]
     },
     "metadata": {},
     "output_type": "display_data"
    },
    {
     "data": {
      "text/html": [
       "'----------Yield---------------------------------'"
      ],
      "text/latex": [
       "'----------Yield---------------------------------'"
      ],
      "text/markdown": [
       "'----------Yield---------------------------------'"
      ],
      "text/plain": [
       "[1] \"----------Yield---------------------------------\""
      ]
     },
     "metadata": {},
     "output_type": "display_data"
    },
    {
     "data": {
      "text/html": [
       "<span style=white-space:pre-wrap>'The maximum yield value is:  5430.6 lb/ac'</span>"
      ],
      "text/latex": [
       "'The maximum yield value is:  5430.6 lb/ac'"
      ],
      "text/markdown": [
       "<span style=white-space:pre-wrap>'The maximum yield value is:  5430.6 lb/ac'</span>"
      ],
      "text/plain": [
       "[1] \"The maximum yield value is:  5430.6 lb/ac\""
      ]
     },
     "metadata": {},
     "output_type": "display_data"
    },
    {
     "data": {
      "text/html": [
       "<span style=white-space:pre-wrap>'The minimum yield value is:  295.11 lb/ac'</span>"
      ],
      "text/latex": [
       "'The minimum yield value is:  295.11 lb/ac'"
      ],
      "text/markdown": [
       "<span style=white-space:pre-wrap>'The minimum yield value is:  295.11 lb/ac'</span>"
      ],
      "text/plain": [
       "[1] \"The minimum yield value is:  295.11 lb/ac\""
      ]
     },
     "metadata": {},
     "output_type": "display_data"
    },
    {
     "data": {
      "text/html": [
       "'----------Speed---------------------------------'"
      ],
      "text/latex": [
       "'----------Speed---------------------------------'"
      ],
      "text/markdown": [
       "'----------Speed---------------------------------'"
      ],
      "text/plain": [
       "[1] \"----------Speed---------------------------------\""
      ]
     },
     "metadata": {},
     "output_type": "display_data"
    },
    {
     "data": {
      "text/html": [
       "<span style=white-space:pre-wrap>'The maximum speed value is:  3.69 mph'</span>"
      ],
      "text/latex": [
       "'The maximum speed value is:  3.69 mph'"
      ],
      "text/markdown": [
       "<span style=white-space:pre-wrap>'The maximum speed value is:  3.69 mph'</span>"
      ],
      "text/plain": [
       "[1] \"The maximum speed value is:  3.69 mph\""
      ]
     },
     "metadata": {},
     "output_type": "display_data"
    },
    {
     "data": {
      "text/html": [
       "<span style=white-space:pre-wrap>'The minimum speed value is:  0.54 mph'</span>"
      ],
      "text/latex": [
       "'The minimum speed value is:  0.54 mph'"
      ],
      "text/markdown": [
       "<span style=white-space:pre-wrap>'The minimum speed value is:  0.54 mph'</span>"
      ],
      "text/plain": [
       "[1] \"The minimum speed value is:  0.54 mph\""
      ]
     },
     "metadata": {},
     "output_type": "display_data"
    }
   ],
   "source": [
    "wheatdata <- read.csv(\"wheat100.csv\")\n",
    "summary(wheatdata)\n",
    "(\"----------Yield---------------------------------\")\n",
    "#names(wheatdata)\n",
    "maxyield <- max(wheatdata$Yld.Mass.Dry..lb.ac.)\n",
    "minyield <- min(wheatdata$Yld.Mass.Dry..lb.ac.)\n",
    "paste(\"The maximum yield value is: \", maxyield, \"lb/ac\")\n",
    "paste(\"The minimum yield value is: \", minyield, \"lb/ac\")\n",
    "(\"----------Speed---------------------------------\")\n",
    "maxspeed <- max(wheatdata$Speed.mph.)\n",
    "minspeed <- min(wheatdata$Speed.mph.)\n",
    "paste(\"The maximum speed value is: \", maxspeed, \"mph\")\n",
    "paste(\"The minimum speed value is: \", minspeed, \"mph\")"
   ]
  },
  {
   "cell_type": "code",
   "execution_count": 15,
   "id": "3c305f29",
   "metadata": {
    "kernel": "python3"
   },
   "outputs": [
    {
     "ename": "CalledProcessError",
     "evalue": "Command '['grass82', '--config', 'python_path']' returned non-zero exit status 1.",
     "output_type": "error",
     "traceback": [
      "\u001b[1;31m---------------------------------------------------------------------------\u001b[0m",
      "\u001b[1;31mCalledProcessError\u001b[0m                        Traceback (most recent call last)",
      "Cell \u001b[1;32mIn [8], line 9\u001b[0m\n\u001b[0;32m      5\u001b[0m \u001b[38;5;28;01mfrom\u001b[39;00m \u001b[38;5;21;01mIPython\u001b[39;00m\u001b[38;5;21;01m.\u001b[39;00m\u001b[38;5;21;01mdisplay\u001b[39;00m \u001b[38;5;28;01mimport\u001b[39;00m Image\n\u001b[0;32m      7\u001b[0m \u001b[38;5;66;03m# Ask GRASS GIS where its Python packages are.\u001b[39;00m\n\u001b[0;32m      8\u001b[0m path \u001b[38;5;241m=\u001b[39m sys\u001b[38;5;241m.\u001b[39mpath\u001b[38;5;241m.\u001b[39mappend(\n\u001b[1;32m----> 9\u001b[0m     \u001b[43msubprocess\u001b[49m\u001b[38;5;241;43m.\u001b[39;49m\u001b[43mcheck_output\u001b[49m\u001b[43m(\u001b[49m\u001b[43m[\u001b[49m\u001b[38;5;124;43m\"\u001b[39;49m\u001b[38;5;124;43mgrass82\u001b[39;49m\u001b[38;5;124;43m\"\u001b[39;49m\u001b[43m,\u001b[49m\u001b[43m \u001b[49m\u001b[38;5;124;43m\"\u001b[39;49m\u001b[38;5;124;43m--config\u001b[39;49m\u001b[38;5;124;43m\"\u001b[39;49m\u001b[43m,\u001b[49m\u001b[43m \u001b[49m\u001b[38;5;124;43m\"\u001b[39;49m\u001b[38;5;124;43mpython_path\u001b[39;49m\u001b[38;5;124;43m\"\u001b[39;49m\u001b[43m]\u001b[49m\u001b[43m,\u001b[49m\u001b[43m \u001b[49m\u001b[43mtext\u001b[49m\u001b[38;5;241;43m=\u001b[39;49m\u001b[38;5;28;43;01mTrue\u001b[39;49;00m\u001b[43m,\u001b[49m\u001b[43m \u001b[49m\u001b[43mshell\u001b[49m\u001b[38;5;241;43m=\u001b[39;49m\u001b[38;5;28;43;01mTrue\u001b[39;49;00m\u001b[43m)\u001b[49m\u001b[38;5;241m.\u001b[39mstrip()\n\u001b[0;32m     10\u001b[0m )\n\u001b[0;32m     12\u001b[0m \u001b[38;5;28mprint\u001b[39m(path)\n\u001b[0;32m     13\u001b[0m \u001b[38;5;66;03m# Import the GRASS GIS packages needed.\u001b[39;00m\n\u001b[0;32m     14\u001b[0m \u001b[38;5;66;03m#import grass.script as gs\u001b[39;00m\n\u001b[0;32m     15\u001b[0m \u001b[38;5;66;03m#import grass.jupyter as gj\u001b[39;00m\n\u001b[1;32m   (...)\u001b[0m\n\u001b[0;32m     22\u001b[0m \u001b[38;5;66;03m#os.chdir('/home/jovyan/data/testLocation')\u001b[39;00m\n\u001b[0;32m     23\u001b[0m \u001b[38;5;66;03m#cwd = os.getcwd()\u001b[39;00m\n",
      "File \u001b[1;32mC:\\Program Files\\ArcGIS\\Pro\\bin\\Python\\envs\\arcgispro-py3\\lib\\subprocess.py:424\u001b[0m, in \u001b[0;36mcheck_output\u001b[1;34m(timeout, *popenargs, **kwargs)\u001b[0m\n\u001b[0;32m    421\u001b[0m         empty \u001b[38;5;241m=\u001b[39m \u001b[38;5;124mb\u001b[39m\u001b[38;5;124m'\u001b[39m\u001b[38;5;124m'\u001b[39m\n\u001b[0;32m    422\u001b[0m     kwargs[\u001b[38;5;124m'\u001b[39m\u001b[38;5;124minput\u001b[39m\u001b[38;5;124m'\u001b[39m] \u001b[38;5;241m=\u001b[39m empty\n\u001b[1;32m--> 424\u001b[0m \u001b[38;5;28;01mreturn\u001b[39;00m run(\u001b[38;5;241m*\u001b[39mpopenargs, stdout\u001b[38;5;241m=\u001b[39mPIPE, timeout\u001b[38;5;241m=\u001b[39mtimeout, check\u001b[38;5;241m=\u001b[39m\u001b[38;5;28;01mTrue\u001b[39;00m,\n\u001b[0;32m    425\u001b[0m            \u001b[38;5;241m*\u001b[39m\u001b[38;5;241m*\u001b[39mkwargs)\u001b[38;5;241m.\u001b[39mstdout\n",
      "File \u001b[1;32mC:\\Program Files\\ArcGIS\\Pro\\bin\\Python\\envs\\arcgispro-py3\\lib\\subprocess.py:528\u001b[0m, in \u001b[0;36mrun\u001b[1;34m(input, capture_output, timeout, check, *popenargs, **kwargs)\u001b[0m\n\u001b[0;32m    526\u001b[0m     retcode \u001b[38;5;241m=\u001b[39m process\u001b[38;5;241m.\u001b[39mpoll()\n\u001b[0;32m    527\u001b[0m     \u001b[38;5;28;01mif\u001b[39;00m check \u001b[38;5;129;01mand\u001b[39;00m retcode:\n\u001b[1;32m--> 528\u001b[0m         \u001b[38;5;28;01mraise\u001b[39;00m CalledProcessError(retcode, process\u001b[38;5;241m.\u001b[39margs,\n\u001b[0;32m    529\u001b[0m                                  output\u001b[38;5;241m=\u001b[39mstdout, stderr\u001b[38;5;241m=\u001b[39mstderr)\n\u001b[0;32m    530\u001b[0m \u001b[38;5;28;01mreturn\u001b[39;00m CompletedProcess(process\u001b[38;5;241m.\u001b[39margs, retcode, stdout, stderr)\n",
      "\u001b[1;31mCalledProcessError\u001b[0m: Command '['grass82', '--config', 'python_path']' returned non-zero exit status 1."
     ]
    }
   ],
   "source": [
    "# Import Python standard library and IPython packages we need.\n",
    "import os\n",
    "import subprocess\n",
    "import sys\n",
    "from IPython.display import Image\n",
    "\n",
    "# Ask GRASS GIS where its Python packages are.\n",
    "path = sys.path.append(\n",
    "    subprocess.check_output([\"grass82\", \"--config\", \"python_path\"], text=True, shell=True).strip()\n",
    ")\n",
    "\n",
    "print(path)\n",
    "# Import the GRASS GIS packages needed.\n",
    "#import grass.script as gs\n",
    "#import grass.jupyter as gj\n",
    "\n",
    "# Start GRASS Session\n",
    "#session = gj.init(\"/home/jovyan/data/\", \"testLocation\", \"PERMANENT\")\n",
    "#print(session)\n",
    "\n",
    "# Set working location of data\n",
    "#os.chdir('/home/jovyan/data/testLocation')\n",
    "#cwd = os.getcwd()"
   ]
  },
  {
   "cell_type": "code",
   "execution_count": null,
   "id": "b825d8d9",
   "metadata": {
    "kernel": "SoS"
   },
   "outputs": [],
   "source": []
  }
 ],
 "metadata": {
  "kernelspec": {
   "display_name": "SoS",
   "language": "sos",
   "name": "sos"
  },
  "language_info": {
   "codemirror_mode": "sos",
   "file_extension": ".sos",
   "mimetype": "text/x-sos",
   "name": "sos",
   "nbconvert_exporter": "sos_notebook.converter.SoS_Exporter",
   "pygments_lexer": "sos"
  },
  "sos": {
   "kernels": [
    [
     "SoS",
     "sos",
     "",
     "",
     "sos"
    ],
    [
     "ir",
     "ir",
     "R",
     "",
     "r"
    ],
    [
     "python3",
     "python3",
     "python",
     "",
     {
      "name": "ipython",
      "version": 3
     }
    ]
   ],
   "panel": {
    "displayed": true,
    "height": 0
   },
   "version": "0.20.1"
  }
 },
 "nbformat": 4,
 "nbformat_minor": 5
}
